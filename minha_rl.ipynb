{
 "cells": [
  {
   "cell_type": "code",
   "execution_count": 22,
   "metadata": {},
   "outputs": [],
   "source": [
    "import numpy as np\n",
    "import matplotlib as mpl\n",
    "import ipykernel \n"
   ]
  },
  {
   "cell_type": "code",
   "execution_count": 23,
   "metadata": {},
   "outputs": [
    {
     "name": "stdout",
     "output_type": "stream",
     "text": [
      "[[2]\n",
      " [3]]\n",
      "(2, 1)\n"
     ]
    }
   ],
   "source": [
    "theta = np.asarray([[2],[3]])\n",
    "print (theta)\n",
    "print(theta.shape)"
   ]
  },
  {
   "cell_type": "code",
   "execution_count": 24,
   "metadata": {},
   "outputs": [
    {
     "name": "stdout",
     "output_type": "stream",
     "text": [
      "[[1 1]\n",
      " [1 2]\n",
      " [1 3]\n",
      " [1 4]]\n"
     ]
    }
   ],
   "source": [
    "x = np.asarray([[1,1],[1,2],[1,3],[1,4]])\n",
    "print (x)"
   ]
  },
  {
   "cell_type": "code",
   "execution_count": 25,
   "metadata": {},
   "outputs": [
    {
     "name": "stdout",
     "output_type": "stream",
     "text": [
      "[[17]\n",
      " [24]\n",
      " [36]\n",
      " [43]]\n"
     ]
    }
   ],
   "source": [
    "y = np.asarray([[17],[24],[36],[43]])\n",
    "print (y)"
   ]
  },
  {
   "cell_type": "code",
   "execution_count": 26,
   "metadata": {},
   "outputs": [
    {
     "name": "stdout",
     "output_type": "stream",
     "text": [
      "[[ 5]\n",
      " [ 8]\n",
      " [11]\n",
      " [14]]\n",
      "(4, 1)\n"
     ]
    }
   ],
   "source": [
    "y_hat = np.matmul(x, theta)\n",
    "print(y_hat)\n",
    "print(y_hat.shape)"
   ]
  },
  {
   "cell_type": "code",
   "execution_count": 27,
   "metadata": {},
   "outputs": [
    {
     "name": "stdout",
     "output_type": "stream",
     "text": [
      "[[1866]]\n"
     ]
    }
   ],
   "source": [
    "def loss_function (y, y_hat):\n",
    "    residuo = y - y_hat\n",
    "    return np.matmul(residuo.T, residuo)\n",
    "print (loss_function(y,y_hat))"
   ]
  },
  {
   "cell_type": "code",
   "execution_count": 30,
   "metadata": {},
   "outputs": [
    {
     "name": "stdout",
     "output_type": "stream",
     "text": [
      "[[7.5]\n",
      " [9. ]]\n",
      "(2, 1)\n"
     ]
    }
   ],
   "source": [
    "# One-Step Learning\n",
    "\n",
    "# θ = (XˆT X)^-1 X^T y\n",
    "\n",
    "primeira_mult = np.matmul(x.T, x)\n",
    "pseudo_inversa = np.linalg.pinv(primeira_mult)\n",
    "inversa_por_XT = np.matmul (pseudo_inversa, x.T)\n",
    "best_theta = np.matmul (inversa_por_XT, y)\n",
    "\n",
    "print(best_theta)\n",
    "print(best_theta.shape)\n",
    "\n"
   ]
  },
  {
   "cell_type": "code",
   "execution_count": 21,
   "metadata": {},
   "outputs": [
    {
     "name": "stdout",
     "output_type": "stream",
     "text": [
      "loss [[1866]]\n",
      "[[ 5]\n",
      " [ 8]\n",
      " [11]\n",
      " [14]]\n"
     ]
    }
   ],
   "source": [
    "print ('loss' , loss_function(y,np.matmul(x, theta)))\n",
    "print(np.matmul(x, theta))\n"
   ]
  },
  {
   "cell_type": "code",
   "execution_count": 31,
   "metadata": {},
   "outputs": [
    {
     "name": "stdout",
     "output_type": "stream",
     "text": [
      "loss [[5.]]\n",
      "[[16.5]\n",
      " [25.5]\n",
      " [34.5]\n",
      " [43.5]]\n"
     ]
    }
   ],
   "source": [
    "print ('loss' , loss_function(y,np.matmul(x, best_theta)))\n",
    "print(np.matmul(x, best_theta))"
   ]
  },
  {
   "cell_type": "code",
   "execution_count": null,
   "metadata": {},
   "outputs": [],
   "source": [
    "eta = 0.01 #taxa de aprendizado\n",
    "\n",
    "\n"
   ]
  }
 ],
 "metadata": {
  "kernelspec": {
   "display_name": "Python 3",
   "language": "python",
   "name": "python3"
  },
  "language_info": {
   "codemirror_mode": {
    "name": "ipython",
    "version": 3
   },
   "file_extension": ".py",
   "mimetype": "text/x-python",
   "name": "python",
   "nbconvert_exporter": "python",
   "pygments_lexer": "ipython3",
   "version": "3.12.5"
  }
 },
 "nbformat": 4,
 "nbformat_minor": 2
}
